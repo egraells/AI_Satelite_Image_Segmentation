{
 "cells": [
  {
   "cell_type": "markdown",
   "id": "broad-collins",
   "metadata": {},
   "source": [
    "## IMPORT"
   ]
  },
  {
   "cell_type": "code",
   "execution_count": 1,
   "id": "promising-cooler",
   "metadata": {},
   "outputs": [],
   "source": [
    "import rasterio\n",
    "from rasterio.windows import Window\n",
    "from torch.utils.data import Dataset, DataLoader\n",
    "from torchvision import transforms, utils\n",
    "import torch\n",
    "from torch import optim\n",
    "import torch.nn.functional as F\n",
    "import torch.nn as nn\n",
    "import numpy as np\n",
    "from datetime import datetime\n",
    "from tqdm import tqdm\n",
    "import matplotlib.pyplot as plt\n",
    "#import pandas as pd\n",
    "import matplotlib.patches as mpatches\n",
    "from collections import Counter\n",
    "import matplotlib.pyplot as plt\n",
    "from rasterio.windows import Window\n"
   ]
  },
  {
   "cell_type": "code",
   "execution_count": null,
   "id": "7ff6202c",
   "metadata": {},
   "outputs": [],
   "source": [
    "# Function to find and visualize windows with specific classes\n",
    "def visualize_windows_with_classes(raster_path, classes_of_interest, window_size=512, num_windows=3):\n",
    "    \"\"\"\n",
    "    Visualize windows containing specific classes.\n",
    "    \n",
    "    Parameters:\n",
    "    - raster_path: Path to the raster file.\n",
    "    - classes_of_interest: Set of classes to look for in windows.\n",
    "    - window_size: Size of the square window to read (in pixels).\n",
    "    - num_windows: Number of windows to display.\n",
    "    \"\"\"\n",
    "    windows_found = 0\n",
    "    \n",
    "    with rasterio.open(raster_path) as src:\n",
    "        # Raster dimensions\n",
    "        width = src.width\n",
    "        height = src.height\n",
    "        \n",
    "        # Randomly sample windows\n",
    "        for row in range(0, height, window_size):\n",
    "            for col in range(0, width, window_size):\n",
    "                # Define the window\n",
    "                window = Window(col_off=col, row_off=row, width=window_size, height=window_size)\n",
    "                \n",
    "                # Ensure the window is within bounds\n",
    "                if col + window_size > width or row + window_size > height:\n",
    "                    continue\n",
    "                \n",
    "                # Read the window\n",
    "                data = src.read(1, window=window)\n",
    "                \n",
    "                # Check if the window contains the desired classes\n",
    "                if any(cls in data for cls in classes_of_interest):\n",
    "                    # Plot the window\n",
    "                    plt.figure(figsize=(6, 6))\n",
    "                    # The tab20 colormap is one of the built-in colormaps in Matplotlib, \n",
    "                    # which provides a set of 20 distinct colors. This can be particularly useful \n",
    "                    # for visualizing categorical data with many categories.\n",
    "                    plt.imshow(data, cmap=\"tab20\", interpolation=\"none\")\n",
    "                    plt.title(f\"Window at col {col}, row {row}\")\n",
    "                    plt.colorbar(label=\"Classes\")\n",
    "                    plt.show()\n",
    "                    \n",
    "                    windows_found += 1\n",
    "                    \n",
    "                    # Stop if we've found enough windows\n",
    "                    if windows_found >= num_windows:\n",
    "                        return\n",
    "                else:\n",
    "                    print(f\"Window at col {col}, row {row} does not contain the desired classes.\")\n"
   ]
  },
  {
   "cell_type": "code",
   "execution_count": 8,
   "id": "91818a08",
   "metadata": {},
   "outputs": [],
   "source": [
    "# Visualize windows with specific classes\n",
    "# Classes to visualize (e.g., class 1 and class 2)\n",
    "# Path to your large TIFF file\n",
    "raster_path = 'datasets/\\\\LC_2018_UTM_WGS84_31N_1m_12_Classes.tif'\n",
    "raster_path = r'D:\\tiles_training\\tiles_masks\\tiffs\\tile_24000_0_novalues_blank.tif'\n",
    "classes_of_interest = {1, 2, 3}\n",
    "visualize_windows_with_classes(raster_path, classes_of_interest)"
   ]
  },
  {
   "cell_type": "code",
   "execution_count": 6,
   "id": "fff19099",
   "metadata": {},
   "outputs": [
    {
     "name": "stdout",
     "output_type": "stream",
     "text": [
      "Histogram of labels: {0: 578803026, 1: 65729314, 2: 26829204, 3: 133273474, 4: 65516316, 5: 8500723, 6: 4758221, 7: 2746500, 8: 2810262, 9: 5699709, 10: 603801, 11: 2061981, 12: 2338573, 19: 316612, 41: 12284}\n"
     ]
    }
   ],
   "source": [
    "\n",
    "# Open the raster\n",
    "with rasterio.open(raster_path) as src:\n",
    "    # Initialize an empty Counter to store label frequencies\n",
    "    label_counts = Counter()\n",
    "    \n",
    "    # Read the file in manageable chunks\n",
    "    for ji, window in src.block_windows(1):  # Iterate over each block in the first band\n",
    "        data = src.read(1, window=window)    # Read the block\n",
    "        unique, counts = np.unique(data, return_counts=True)  # Get unique labels and their counts\n",
    "        label_counts.update(dict(zip(unique, counts)))        # Update the Counter\n",
    "\n",
    "# Convert to a histogram-friendly format\n",
    "histogram = dict(sorted(label_counts.items()))\n",
    "\n",
    "# Display the histogram\n",
    "print(\"Histogram of labels:\", histogram)\n"
   ]
  }
 ],
 "metadata": {
  "kernelspec": {
   "display_name": "AIDL-Projecte",
   "language": "python",
   "name": "python3"
  },
  "language_info": {
   "codemirror_mode": {
    "name": "ipython",
    "version": 3
   },
   "file_extension": ".py",
   "mimetype": "text/x-python",
   "name": "python",
   "nbconvert_exporter": "python",
   "pygments_lexer": "ipython3",
   "version": "3.10.16"
  }
 },
 "nbformat": 4,
 "nbformat_minor": 5
}
