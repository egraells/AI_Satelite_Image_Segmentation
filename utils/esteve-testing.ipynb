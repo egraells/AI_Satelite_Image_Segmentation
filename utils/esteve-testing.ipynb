{
 "cells": [
  {
   "cell_type": "code",
   "execution_count": null,
   "metadata": {},
   "outputs": [
    {
     "name": "stdout",
     "output_type": "stream",
     "text": [
      "Metadata del objeto: {'driver': 'GTiff', 'dtype': 'uint8', 'nodata': 0.0, 'width': 30000, 'height': 30000, 'count': 1, 'crs': CRS.from_epsg(32631), 'transform': Affine(1.0, 0.0, 240000.0,\n",
      "       0.0, -1.0, 4780000.0)}\n",
      "Profile del objeto: {'driver': 'GTiff', 'dtype': 'uint8', 'nodata': 0.0, 'width': 30000, 'height': 30000, 'count': 1, 'crs': CRS.from_epsg(32631), 'transform': Affine(1.0, 0.0, 240000.0,\n",
      "       0.0, -1.0, 4780000.0), 'blockysize': 1, 'tiled': False, 'interleave': 'band'}\n",
      "Existen 1 bandas en este geotiff que es multiband, tiene varias bandas en el mismo archivo\n",
      "El tamaño de la imagen es 30000 x 30000 píxeles\n",
      "El CRS (Coordinate Reference System) es EPSG:32631\n",
      "Los bounds de la imagen son BoundingBox(left=240000.0, bottom=4750000.0, right=270000.0, top=4780000.0)\n",
      "La resolución de la imagen es (1.0, 1.0)\n",
      "Los indexes de las bandas son (1,)\n",
      "El nombre del fichero es ..\\..\\..\\datasets\\12classes_downsampled_average.tif\n",
      "La descripción del fichero es (None,)\n"
     ]
    }
   ],
   "source": [
    "import rasterio\n",
    "import numpy as np\n",
    "\n",
    "from rasterio.plot import show\n",
    "from matplotlib import pyplot as plt\n",
    "\n",
    "\n",
    "# Obtenemos un objeto DatasetReader q tiene muchos atributos y métodos\n",
    "#img = rasterio.open('../../../datasets/S2_CAT_201804_UTM_WGS84_31N_10m.tif')\n",
    "\n",
    "print(f\"Metadata del objeto: {img.meta}\")\n",
    "print(f\"Profile del objeto: {img.profile}\")\n",
    "print(f\"Existen {img.count} bandas en este geotiff que es multiband, tiene varias bandas en el mismo archivo\") \n",
    "print(f\"El tamaño de la imagen es {img.width} x {img.height} píxeles\")\n",
    "print(f\"El CRS (Coordinate Reference System) es {img.crs}\")\n",
    "print(f\"Los bounds de la imagen son {img.bounds}\")\n",
    "print(f\"La resolución de la imagen es {img.res}\")\n",
    "print(f\"Los indexes de las bandas son {img.indexes}\")\n",
    "print(f\"El nombre del fichero es {img.name}\")\n",
    "print(f\"La descripción del fichero es {img.descriptions}\")\n",
    "\n",
    "\n",
    "\n"
   ]
  },
  {
   "cell_type": "code",
   "execution_count": 2,
   "metadata": {},
   "outputs": [
    {
     "name": "stdout",
     "output_type": "stream",
     "text": [
      "... leyendo la imagen\n",
      "... imagen leída\n"
     ]
    }
   ],
   "source": [
    "print(f\"... leyendo la imagen\")\n",
    "full_img = img.read()\n",
    "print(f\"... imagen leída\")\n",
    "# show(img)\n"
   ]
  },
  {
   "cell_type": "code",
   "execution_count": null,
   "metadata": {},
   "outputs": [],
   "source": [
    "print(f\"Mostrasmos la imagen desde la x=300 hasta la x=900 y desde la y=300 hasta la y=900\")   \n",
    "clipped_img = full_img[:, 300:900, 300:900]\n",
    "plt.imshow(clipped_img[0, :, :], cmap='terrain')"
   ]
  },
  {
   "cell_type": "code",
   "execution_count": null,
   "metadata": {},
   "outputs": [],
   "source": [
    "\n",
    "bands = []\n",
    "for band_idx in range(1, 2):  # Rasterio uses 1-based indexing for bands\n",
    "    band_data = img.read(band_idx)  # Read the band data\n",
    "\n",
    "    print(f\"Band {band_idx} has shape {band_data.shape}\")  \n",
    "    print(f\"Band {band_idx} has type {band_data.dtype}\")\n",
    "\n",
    "    # Aqui es un array de 2 dimensiones por tanto lo podemos plotear con matplotlib\n",
    "    fig = plt.figure(figsize=(10, 10))\n",
    "    ax1 = fig.add_subplot(2,2,1)\n",
    "\n",
    "    bands.append(band_data)\n",
    "\n",
    "# Convert list of bands to a numpy array (optional)\n",
    "bands_array = np.array(bands)\n",
    "\n",
    "# Print shape to verify (bands, height, width)\n",
    "print(\"Shape of bands array:\", bands_array.shape)\n",
    "\n",
    "# Close the image\n",
    "img.close()\n"
   ]
  },
  {
   "cell_type": "code",
   "execution_count": 5,
   "metadata": {},
   "outputs": [],
   "source": [
    "import numpy as np\n",
    "from PIL import Image\n",
    "import os\n",
    "\n",
    "# Load a specific patch\n",
    "patch_path = 'D:\\code\\Postgrau-Proyecto\\github-ICGC\\CatLC\\data_patches\\patch_0.npy'  # Example path\n",
    "output_band_dir = 'D:\\code\\Postgrau-Proyecto\\github-ICGC\\CatLC\\data_patches'  # Directory for saving bands\n",
    "os.makedirs(output_band_dir, exist_ok=True)\n",
    "\n",
    "# Load the patch\n",
    "patch = np.load(patch_path)\n",
    "\n",
    "# Save each band\n",
    "for band_idx in range(patch.shape[0]):\n",
    "    band_image = (patch[band_idx] * 255).clip(0, 255).astype(np.uint8)\n",
    "    Image.fromarray(band_image).save(f'{output_band_dir}/patch_0_band_{band_idx}.png')\n"
   ]
  }
 ],
 "metadata": {
  "kernelspec": {
   "display_name": "AIDL-Projecte",
   "language": "python",
   "name": "python3"
  },
  "language_info": {
   "codemirror_mode": {
    "name": "ipython",
    "version": 3
   },
   "file_extension": ".py",
   "mimetype": "text/x-python",
   "name": "python",
   "nbconvert_exporter": "python",
   "pygments_lexer": "ipython3",
   "version": "3.10.16"
  }
 },
 "nbformat": 4,
 "nbformat_minor": 2
}
